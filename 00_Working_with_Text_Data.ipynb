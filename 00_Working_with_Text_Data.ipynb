{
  "nbformat": 4,
  "nbformat_minor": 0,
  "metadata": {
    "colab": {
      "provenance": []
    },
    "kernelspec": {
      "name": "python3",
      "display_name": "Python 3"
    },
    "language_info": {
      "name": "python"
    }
  },
  "cells": [
    {
      "cell_type": "markdown",
      "source": [
        "This script covers the steps involved in preparing text for training large language models, including:\n",
        "\n",
        "- Splitting the text into word and subword tokens.\n",
        "- Using byte pair encoding (BPE) for more advanced tokenization.\n",
        "- Sampling training examples using a sliding window approach.\n",
        "- Converting tokens into vectors to be fed into the large language model.\n"
      ],
      "metadata": {
        "id": "er2FXqaFKZPO"
      }
    },
    {
      "cell_type": "markdown",
      "source": [
        "## Tokenization"
      ],
      "metadata": {
        "id": "kMR96ehiq_Kg"
      }
    },
    {
      "cell_type": "markdown",
      "source": [
        "You can find the input raw text [here](https://en.wikisource.org/wiki/Brother_Leo)."
      ],
      "metadata": {
        "id": "UFnNrD7YSMV9"
      }
    },
    {
      "cell_type": "code",
      "execution_count": 1,
      "metadata": {
        "id": "e3F7hzd-q5hM"
      },
      "outputs": [],
      "source": [
        "import os"
      ]
    },
    {
      "cell_type": "code",
      "source": [
        "with open('/input/Leo.txt', 'r', encoding=\"utf-8\") as file:\n",
        "  content = file.read()"
      ],
      "metadata": {
        "id": "ykIKDDHerK3m"
      },
      "execution_count": 2,
      "outputs": []
    },
    {
      "cell_type": "code",
      "source": [
        "print(f\"Total number of characters present is {len(content)}\")"
      ],
      "metadata": {
        "colab": {
          "base_uri": "https://localhost:8080/"
        },
        "id": "b_KfgrTkrUPn",
        "outputId": "f05a7b57-a61b-41f6-dacb-e05e68c891d3"
      },
      "execution_count": 3,
      "outputs": [
        {
          "output_type": "stream",
          "name": "stdout",
          "text": [
            "Total number of characters present is 18036\n"
          ]
        }
      ]
    },
    {
      "cell_type": "code",
      "source": [
        "print(content[:150])"
      ],
      "metadata": {
        "colab": {
          "base_uri": "https://localhost:8080/"
        },
        "id": "ltDBJ88Yrxcw",
        "outputId": "9c34b016-6b02-4dc1-d184-12619356bad8"
      },
      "execution_count": 4,
      "outputs": [
        {
          "output_type": "stream",
          "name": "stdout",
          "text": [
            "IT was a sunny morning, and I was on my way to Torcello. Venice lay behind us a dazzling line, with towers of gold against the blue lagoon. All at onc\n"
          ]
        }
      ]
    },
    {
      "cell_type": "code",
      "source": [
        "import re"
      ],
      "metadata": {
        "id": "1-3raWQEr2Pm"
      },
      "execution_count": 5,
      "outputs": []
    },
    {
      "cell_type": "code",
      "source": [
        "text = \"Hello, world. This is a sample text.\"\n",
        "result = re.split(r'(\\s)', text)\n",
        "print(result)"
      ],
      "metadata": {
        "colab": {
          "base_uri": "https://localhost:8080/"
        },
        "id": "O5220riZsG6e",
        "outputId": "dd2dbfcc-608d-4c94-d51f-999b7ee14bd6"
      },
      "execution_count": 6,
      "outputs": [
        {
          "output_type": "stream",
          "name": "stdout",
          "text": [
            "['Hello,', ' ', 'world.', ' ', 'This', ' ', 'is', ' ', 'a', ' ', 'sample', ' ', 'text.']\n"
          ]
        }
      ]
    },
    {
      "cell_type": "markdown",
      "source": [
        "This result is a list of individual words, whitespaces and punctuation characters."
      ],
      "metadata": {
        "id": "R97-OPLKsbB0"
      }
    },
    {
      "cell_type": "markdown",
      "source": [
        "Now, let's modify the regular expression that splits on whitespaces, commas and periods."
      ],
      "metadata": {
        "id": "sOdkOZ4u4-5x"
      }
    },
    {
      "cell_type": "code",
      "source": [
        "result = re.split(r'([,.]|\\s)', text)\n",
        "print(result)"
      ],
      "metadata": {
        "colab": {
          "base_uri": "https://localhost:8080/"
        },
        "id": "ijq72InusWlM",
        "outputId": "e59f8ec4-5388-4458-9bef-2d7760c5f62e"
      },
      "execution_count": 7,
      "outputs": [
        {
          "output_type": "stream",
          "name": "stdout",
          "text": [
            "['Hello', ',', '', ' ', 'world', '.', '', ' ', 'This', ' ', 'is', ' ', 'a', ' ', 'sample', ' ', 'text', '.', '']\n"
          ]
        }
      ]
    },
    {
      "cell_type": "code",
      "source": [
        "result = [item for item in result if item.strip()]\n",
        "print(result)"
      ],
      "metadata": {
        "colab": {
          "base_uri": "https://localhost:8080/"
        },
        "id": "14gsoO72sxD_",
        "outputId": "0acc0fd2-06e5-41ac-e39d-22f8fad348f1"
      },
      "execution_count": 8,
      "outputs": [
        {
          "output_type": "stream",
          "name": "stdout",
          "text": [
            "['Hello', ',', 'world', '.', 'This', 'is', 'a', 'sample', 'text', '.']\n"
          ]
        }
      ]
    },
    {
      "cell_type": "code",
      "source": [
        "text = \"Hello, world. Is this-- a test?\"\n",
        "result = re.split(r'([,.:;?_!\"()\\']|--|\\s)', text)\n",
        "result = [item.strip() for item in result if item.strip()]\n",
        "print(result)"
      ],
      "metadata": {
        "colab": {
          "base_uri": "https://localhost:8080/"
        },
        "id": "kWbQUD0L5RsU",
        "outputId": "4038dfc6-a0f0-427d-b46e-f1f907febeea"
      },
      "execution_count": 9,
      "outputs": [
        {
          "output_type": "stream",
          "name": "stdout",
          "text": [
            "['Hello', ',', 'world', '.', 'Is', 'this', '--', 'a', 'test', '?']\n"
          ]
        }
      ]
    },
    {
      "cell_type": "markdown",
      "source": [
        "In the above example, the sample text gets splitted into 10 different tokens. Now, we will apply this tokenizer to our text file content."
      ],
      "metadata": {
        "id": "I7Ucaxd_7DvD"
      }
    },
    {
      "cell_type": "code",
      "source": [
        "preprocessed_text =  re.split(r'([,.:;?_!\"()\\']|--|\\s)', content)\n",
        "preprocessed_text = [item.strip() for item in preprocessed_text if item.strip()]\n",
        "print(len(preprocessed_text))"
      ],
      "metadata": {
        "colab": {
          "base_uri": "https://localhost:8080/"
        },
        "id": "Dy54TqUE60zb",
        "outputId": "eacdc027-aa5a-4097-d966-914880b331a3"
      },
      "execution_count": 10,
      "outputs": [
        {
          "output_type": "stream",
          "name": "stdout",
          "text": [
            "4024\n"
          ]
        }
      ]
    },
    {
      "cell_type": "markdown",
      "source": [
        "So,we have in total 4690 tokens in our corpus. Let's print first 30 tokens from this list."
      ],
      "metadata": {
        "id": "XJ4zHEBR7glj"
      }
    },
    {
      "cell_type": "code",
      "source": [
        "preprocessed_text[:30]"
      ],
      "metadata": {
        "colab": {
          "base_uri": "https://localhost:8080/"
        },
        "id": "vEH7FwSz7drH",
        "outputId": "1ee6486e-4d3f-4ab4-de65-f896d56c4f12"
      },
      "execution_count": 11,
      "outputs": [
        {
          "output_type": "execute_result",
          "data": {
            "text/plain": [
              "['IT',\n",
              " 'was',\n",
              " 'a',\n",
              " 'sunny',\n",
              " 'morning',\n",
              " ',',\n",
              " 'and',\n",
              " 'I',\n",
              " 'was',\n",
              " 'on',\n",
              " 'my',\n",
              " 'way',\n",
              " 'to',\n",
              " 'Torcello',\n",
              " '.',\n",
              " 'Venice',\n",
              " 'lay',\n",
              " 'behind',\n",
              " 'us',\n",
              " 'a',\n",
              " 'dazzling',\n",
              " 'line',\n",
              " ',',\n",
              " 'with',\n",
              " 'towers',\n",
              " 'of',\n",
              " 'gold',\n",
              " 'against',\n",
              " 'the',\n",
              " 'blue']"
            ]
          },
          "metadata": {},
          "execution_count": 11
        }
      ]
    },
    {
      "cell_type": "markdown",
      "source": [
        "We can clearly see from the output that we don't have any whitespaces and special characters as a token in this list. we successfully onverted the raw text into individual tokens."
      ],
      "metadata": {
        "id": "lcLpK9Ys7ziN"
      }
    },
    {
      "cell_type": "markdown",
      "source": [
        "## Converting tokens to token IDs"
      ],
      "metadata": {
        "id": "5rtJwytJtFea"
      }
    },
    {
      "cell_type": "markdown",
      "source": [
        "Let's create a list of unique tokens and sort them alphabetically to identify vocabulary size."
      ],
      "metadata": {
        "id": "JMX9ciuGuATG"
      }
    },
    {
      "cell_type": "code",
      "source": [
        "all_unique_words = sorted(set(preprocessed_text))\n",
        "vocab_size = len(all_unique_words)\n",
        "print(vocab_size)"
      ],
      "metadata": {
        "colab": {
          "base_uri": "https://localhost:8080/"
        },
        "id": "t0fS_Cj17sRy",
        "outputId": "61de7dd5-7cc4-449b-e840-ba8879298430"
      },
      "execution_count": 12,
      "outputs": [
        {
          "output_type": "stream",
          "name": "stdout",
          "text": [
            "988\n"
          ]
        }
      ]
    },
    {
      "cell_type": "code",
      "source": [
        "vocab = {token: integer for integer, token in enumerate(all_unique_words)}"
      ],
      "metadata": {
        "id": "sIceL5MNujSd"
      },
      "execution_count": 13,
      "outputs": []
    },
    {
      "cell_type": "code",
      "source": [
        "for i, item in enumerate(vocab.items()):\n",
        "  print(item)\n",
        "  if i >= 50:\n",
        "    break"
      ],
      "metadata": {
        "colab": {
          "base_uri": "https://localhost:8080/"
        },
        "id": "xZomdE3Xu4jy",
        "outputId": "0426c42d-337b-4c3a-8cca-fa617fc2d836"
      },
      "execution_count": 14,
      "outputs": [
        {
          "output_type": "stream",
          "name": "stdout",
          "text": [
            "('!', 0)\n",
            "('\"', 1)\n",
            "(\"'\", 2)\n",
            "(',', 3)\n",
            "('.', 4)\n",
            "(':', 5)\n",
            "(';', 6)\n",
            "('?', 7)\n",
            "('A', 8)\n",
            "('After', 9)\n",
            "('Ah', 10)\n",
            "('All', 11)\n",
            "('Altinum', 12)\n",
            "('And', 13)\n",
            "('As', 14)\n",
            "('At', 15)\n",
            "('Besides', 16)\n",
            "('Brother', 17)\n",
            "('Burano', 18)\n",
            "('But', 19)\n",
            "('Deserto', 20)\n",
            "('English', 21)\n",
            "('Enter', 22)\n",
            "('Esau', 23)\n",
            "('Even', 24)\n",
            "('Excellency', 25)\n",
            "('Far', 26)\n",
            "('First', 27)\n",
            "('Francesco', 28)\n",
            "('Francis', 29)\n",
            "('French', 30)\n",
            "('God', 31)\n",
            "('He', 32)\n",
            "('Here', 33)\n",
            "('His', 34)\n",
            "('I', 35)\n",
            "('IT', 36)\n",
            "('If', 37)\n",
            "('Indeed', 38)\n",
            "('It', 39)\n",
            "('Leo', 40)\n",
            "('Lorenzo', 41)\n",
            "('May', 42)\n",
            "('Meanwhile', 43)\n",
            "('No', 44)\n",
            "('Now', 45)\n",
            "('Once', 46)\n",
            "('One', 47)\n",
            "('Only', 48)\n",
            "('Our', 49)\n",
            "('Perhaps', 50)\n"
          ]
        }
      ]
    },
    {
      "cell_type": "markdown",
      "source": [
        "## Implementing simple Text Tokenizer"
      ],
      "metadata": {
        "id": "1oT2din8v9cO"
      }
    },
    {
      "cell_type": "code",
      "source": [
        "class TokenizerV1:\n",
        "  def __init__(self, vocab):\n",
        "    self.str_to_int = vocab\n",
        "    self.int_to_str = {i:s for s, i in vocab.items()}\n",
        "\n",
        "  def encode(self, text):\n",
        "    preprocessed_text =  re.split(r'([,.:;?_!\"()\\']|--|\\s)', text)\n",
        "    preprocessed_text = [item.strip() for item in preprocessed_text if item.strip()]\n",
        "    ids = [self.str_to_int[token] for token in preprocessed_text]\n",
        "    return ids\n",
        "\n",
        "  def decode(self, ids):\n",
        "    text = \" \".join([self.int_to_str[id] for id in ids])\n",
        "    text = re.sub(r'\\s+([,.?!\"()\\'])', r'\\1', text)\n",
        "    return text\n"
      ],
      "metadata": {
        "id": "ma33pVxuvA0U"
      },
      "execution_count": 15,
      "outputs": []
    },
    {
      "cell_type": "code",
      "source": [
        "tokenizer = TokenizerV1(vocab)\n",
        "text = \"\"\"Yes, it is not for himself that he is searching,\"\n",
        "           said the superior.\"\"\"\n",
        "ids = tokenizer.encode(text)\n",
        "print(ids)"
      ],
      "metadata": {
        "colab": {
          "base_uri": "https://localhost:8080/"
        },
        "id": "VcQ6KmnAxRmA",
        "outputId": "c180a60b-3b89-4612-fd38-147648d6cbe6"
      },
      "execution_count": 16,
      "outputs": [
        {
          "output_type": "stream",
          "name": "stdout",
          "text": [
            "[76, 3, 466, 462, 576, 353, 419, 849, 404, 462, 732, 3, 1, 721, 850, 826, 4]\n"
          ]
        }
      ]
    },
    {
      "cell_type": "code",
      "source": [
        "print(tokenizer.decode(ids))"
      ],
      "metadata": {
        "colab": {
          "base_uri": "https://localhost:8080/"
        },
        "id": "3L3ssVV-xmKJ",
        "outputId": "c515eebc-cf2b-4076-b826-e537e40c9b36"
      },
      "execution_count": 17,
      "outputs": [
        {
          "output_type": "stream",
          "name": "stdout",
          "text": [
            "Yes, it is not for himself that he is searching,\" said the superior.\n"
          ]
        }
      ]
    },
    {
      "cell_type": "markdown",
      "source": [
        "Now, we apply tokenizer to the sample text which is not present in vocabulary."
      ],
      "metadata": {
        "id": "cyUrWGRTyfni"
      }
    },
    {
      "cell_type": "code",
      "source": [
        "text = \"Hello, do you like tea?\"\n",
        "print(tokenizer.encode(text))"
      ],
      "metadata": {
        "colab": {
          "base_uri": "https://localhost:8080/",
          "height": 304
        },
        "id": "yCmlJwFVyGqz",
        "outputId": "33dd1f8a-d278-4405-dfa1-95e8832f4a9f"
      },
      "execution_count": 18,
      "outputs": [
        {
          "output_type": "error",
          "ename": "KeyError",
          "evalue": "'Hello'",
          "traceback": [
            "\u001b[0;31m---------------------------------------------------------------------------\u001b[0m",
            "\u001b[0;31mKeyError\u001b[0m                                  Traceback (most recent call last)",
            "\u001b[0;32m<ipython-input-18-65fd82dd7ab1>\u001b[0m in \u001b[0;36m<cell line: 2>\u001b[0;34m()\u001b[0m\n\u001b[1;32m      1\u001b[0m \u001b[0mtext\u001b[0m \u001b[0;34m=\u001b[0m \u001b[0;34m\"Hello, do you like tea?\"\u001b[0m\u001b[0;34m\u001b[0m\u001b[0;34m\u001b[0m\u001b[0m\n\u001b[0;32m----> 2\u001b[0;31m \u001b[0mprint\u001b[0m\u001b[0;34m(\u001b[0m\u001b[0mtokenizer\u001b[0m\u001b[0;34m.\u001b[0m\u001b[0mencode\u001b[0m\u001b[0;34m(\u001b[0m\u001b[0mtext\u001b[0m\u001b[0;34m)\u001b[0m\u001b[0;34m)\u001b[0m\u001b[0;34m\u001b[0m\u001b[0;34m\u001b[0m\u001b[0m\n\u001b[0m",
            "\u001b[0;32m<ipython-input-15-b387c8ff68db>\u001b[0m in \u001b[0;36mencode\u001b[0;34m(self, text)\u001b[0m\n\u001b[1;32m      7\u001b[0m     \u001b[0mpreprocessed_text\u001b[0m \u001b[0;34m=\u001b[0m  \u001b[0mre\u001b[0m\u001b[0;34m.\u001b[0m\u001b[0msplit\u001b[0m\u001b[0;34m(\u001b[0m\u001b[0;34mr'([,.:;?_!\"()\\']|--|\\s)'\u001b[0m\u001b[0;34m,\u001b[0m \u001b[0mtext\u001b[0m\u001b[0;34m)\u001b[0m\u001b[0;34m\u001b[0m\u001b[0;34m\u001b[0m\u001b[0m\n\u001b[1;32m      8\u001b[0m     \u001b[0mpreprocessed_text\u001b[0m \u001b[0;34m=\u001b[0m \u001b[0;34m[\u001b[0m\u001b[0mitem\u001b[0m\u001b[0;34m.\u001b[0m\u001b[0mstrip\u001b[0m\u001b[0;34m(\u001b[0m\u001b[0;34m)\u001b[0m \u001b[0;32mfor\u001b[0m \u001b[0mitem\u001b[0m \u001b[0;32min\u001b[0m \u001b[0mpreprocessed_text\u001b[0m \u001b[0;32mif\u001b[0m \u001b[0mitem\u001b[0m\u001b[0;34m.\u001b[0m\u001b[0mstrip\u001b[0m\u001b[0;34m(\u001b[0m\u001b[0;34m)\u001b[0m\u001b[0;34m]\u001b[0m\u001b[0;34m\u001b[0m\u001b[0;34m\u001b[0m\u001b[0m\n\u001b[0;32m----> 9\u001b[0;31m     \u001b[0mids\u001b[0m \u001b[0;34m=\u001b[0m \u001b[0;34m[\u001b[0m\u001b[0mself\u001b[0m\u001b[0;34m.\u001b[0m\u001b[0mstr_to_int\u001b[0m\u001b[0;34m[\u001b[0m\u001b[0mtoken\u001b[0m\u001b[0;34m]\u001b[0m \u001b[0;32mfor\u001b[0m \u001b[0mtoken\u001b[0m \u001b[0;32min\u001b[0m \u001b[0mpreprocessed_text\u001b[0m\u001b[0;34m]\u001b[0m\u001b[0;34m\u001b[0m\u001b[0;34m\u001b[0m\u001b[0m\n\u001b[0m\u001b[1;32m     10\u001b[0m     \u001b[0;32mreturn\u001b[0m \u001b[0mids\u001b[0m\u001b[0;34m\u001b[0m\u001b[0;34m\u001b[0m\u001b[0m\n\u001b[1;32m     11\u001b[0m \u001b[0;34m\u001b[0m\u001b[0m\n",
            "\u001b[0;32m<ipython-input-15-b387c8ff68db>\u001b[0m in \u001b[0;36m<listcomp>\u001b[0;34m(.0)\u001b[0m\n\u001b[1;32m      7\u001b[0m     \u001b[0mpreprocessed_text\u001b[0m \u001b[0;34m=\u001b[0m  \u001b[0mre\u001b[0m\u001b[0;34m.\u001b[0m\u001b[0msplit\u001b[0m\u001b[0;34m(\u001b[0m\u001b[0;34mr'([,.:;?_!\"()\\']|--|\\s)'\u001b[0m\u001b[0;34m,\u001b[0m \u001b[0mtext\u001b[0m\u001b[0;34m)\u001b[0m\u001b[0;34m\u001b[0m\u001b[0;34m\u001b[0m\u001b[0m\n\u001b[1;32m      8\u001b[0m     \u001b[0mpreprocessed_text\u001b[0m \u001b[0;34m=\u001b[0m \u001b[0;34m[\u001b[0m\u001b[0mitem\u001b[0m\u001b[0;34m.\u001b[0m\u001b[0mstrip\u001b[0m\u001b[0;34m(\u001b[0m\u001b[0;34m)\u001b[0m \u001b[0;32mfor\u001b[0m \u001b[0mitem\u001b[0m \u001b[0;32min\u001b[0m \u001b[0mpreprocessed_text\u001b[0m \u001b[0;32mif\u001b[0m \u001b[0mitem\u001b[0m\u001b[0;34m.\u001b[0m\u001b[0mstrip\u001b[0m\u001b[0;34m(\u001b[0m\u001b[0;34m)\u001b[0m\u001b[0;34m]\u001b[0m\u001b[0;34m\u001b[0m\u001b[0;34m\u001b[0m\u001b[0m\n\u001b[0;32m----> 9\u001b[0;31m     \u001b[0mids\u001b[0m \u001b[0;34m=\u001b[0m \u001b[0;34m[\u001b[0m\u001b[0mself\u001b[0m\u001b[0;34m.\u001b[0m\u001b[0mstr_to_int\u001b[0m\u001b[0;34m[\u001b[0m\u001b[0mtoken\u001b[0m\u001b[0;34m]\u001b[0m \u001b[0;32mfor\u001b[0m \u001b[0mtoken\u001b[0m \u001b[0;32min\u001b[0m \u001b[0mpreprocessed_text\u001b[0m\u001b[0;34m]\u001b[0m\u001b[0;34m\u001b[0m\u001b[0;34m\u001b[0m\u001b[0m\n\u001b[0m\u001b[1;32m     10\u001b[0m     \u001b[0;32mreturn\u001b[0m \u001b[0mids\u001b[0m\u001b[0;34m\u001b[0m\u001b[0;34m\u001b[0m\u001b[0m\n\u001b[1;32m     11\u001b[0m \u001b[0;34m\u001b[0m\u001b[0m\n",
            "\u001b[0;31mKeyError\u001b[0m: 'Hello'"
          ]
        }
      ]
    },
    {
      "cell_type": "markdown",
      "source": [
        "This error suggests that we need large and diverse training sets to extend the vocab when working on LLMs."
      ],
      "metadata": {
        "id": "oJIHhSRkysZZ"
      }
    },
    {
      "cell_type": "markdown",
      "source": [
        "## Adding Special Context Tokens"
      ],
      "metadata": {
        "id": "ZKKd_hqczeTU"
      }
    },
    {
      "cell_type": "markdown",
      "source": [
        "Now, we will add two special tokens here:\n",
        "\n",
        "* <|unk|>\n",
        "* <|endoftext|>\n",
        "\n"
      ],
      "metadata": {
        "id": "hjo0FTqoz7RZ"
      }
    },
    {
      "cell_type": "code",
      "source": [
        "all_tokens = sorted(set(preprocessed_text))\n",
        "all_tokens.extend([\"<|unk|>\", \"<|endoftext|>\"])"
      ],
      "metadata": {
        "id": "pNEQuX_UyoSH"
      },
      "execution_count": 19,
      "outputs": []
    },
    {
      "cell_type": "code",
      "source": [
        "vocab = {token:integer for integer, token in enumerate(all_tokens)}"
      ],
      "metadata": {
        "id": "SV_uY33d0mHb"
      },
      "execution_count": 20,
      "outputs": []
    },
    {
      "cell_type": "code",
      "source": [
        "print(len(vocab))"
      ],
      "metadata": {
        "colab": {
          "base_uri": "https://localhost:8080/"
        },
        "id": "nPcRqiiH06er",
        "outputId": "52eb4c6c-3672-455a-bac9-403eba074da4"
      },
      "execution_count": 21,
      "outputs": [
        {
          "output_type": "stream",
          "name": "stdout",
          "text": [
            "990\n"
          ]
        }
      ]
    },
    {
      "cell_type": "code",
      "source": [
        "for i, item in enumerate(list(vocab.items())[-5:]):\n",
        "  print(item)"
      ],
      "metadata": {
        "colab": {
          "base_uri": "https://localhost:8080/"
        },
        "id": "lR3rAaae08kd",
        "outputId": "e0d2050c-574e-4540-f37d-d7293bdf58ad"
      },
      "execution_count": 22,
      "outputs": [
        {
          "output_type": "stream",
          "name": "stdout",
          "text": [
            "('yours—at', 985)\n",
            "('youth', 986)\n",
            "('you—one', 987)\n",
            "('<|unk|>', 988)\n",
            "('<|endoftext|>', 989)\n"
          ]
        }
      ]
    },
    {
      "cell_type": "code",
      "source": [
        "class TokenizerV2:\n",
        "  def __init__(self, vocab):\n",
        "    self.str_to_int = vocab\n",
        "    self.int_to_str = {i:s for s, i in vocab.items()}\n",
        "\n",
        "  def encode(self, text):\n",
        "    preprocessed_text =  re.split(r'([,.:;?_!\"()\\']|--|\\s)', text)\n",
        "    preprocessed_text = [item.strip() for item in preprocessed_text if item.strip()]\n",
        "    preprocessed_text = [token if token in self.str_to_int else  \"<|unk|>\" for token in preprocessed_text]\n",
        "    ids = [self.str_to_int[token] for token in preprocessed_text]\n",
        "    return ids\n",
        "\n",
        "  def decode(self, ids):\n",
        "    text = \" \".join([self.int_to_str[id] for id in ids])\n",
        "    text = re.sub(r'\\s+([,.?!\"()\\'])', r'\\1', text)\n",
        "    return text\n"
      ],
      "metadata": {
        "id": "Ad85Lw5P1UH_"
      },
      "execution_count": 23,
      "outputs": []
    },
    {
      "cell_type": "code",
      "source": [
        "text1 = \"Hello, do you like tea?\"\n",
        "text2 = \"In the sunlit terraces of the palace.\"\n",
        "text = \" <|endoftext|> \".join((text1, text2))\n",
        "print(text)"
      ],
      "metadata": {
        "colab": {
          "base_uri": "https://localhost:8080/"
        },
        "id": "Ewfq13HB1_-W",
        "outputId": "e3e5194f-76f9-4530-b095-0c27624ca2f2"
      },
      "execution_count": 24,
      "outputs": [
        {
          "output_type": "stream",
          "name": "stdout",
          "text": [
            "Hello, do you like tea? <|endoftext|> In the sunlit terraces of the palace.\n"
          ]
        }
      ]
    },
    {
      "cell_type": "code",
      "source": [
        "tokenizer = TokenizerV2(vocab)\n",
        "ids = tokenizer.encode(text)\n",
        "print(ids)"
      ],
      "metadata": {
        "colab": {
          "base_uri": "https://localhost:8080/"
        },
        "id": "MTVMmLbi2Hqo",
        "outputId": "e8aeebd3-f72d-4c52-848c-cd995a6863d5"
      },
      "execution_count": 25,
      "outputs": [
        {
          "output_type": "stream",
          "name": "stdout",
          "text": [
            "[988, 3, 262, 979, 506, 988, 7, 989, 988, 850, 988, 988, 585, 850, 988, 4]\n"
          ]
        }
      ]
    },
    {
      "cell_type": "code",
      "source": [
        "tokens = tokenizer.decode(ids)\n",
        "print(tokens)"
      ],
      "metadata": {
        "colab": {
          "base_uri": "https://localhost:8080/"
        },
        "id": "UtBYCkWX2VpT",
        "outputId": "a0972f3b-ffd5-47ef-e4c8-b6906ad193dc"
      },
      "execution_count": 26,
      "outputs": [
        {
          "output_type": "stream",
          "name": "stdout",
          "text": [
            "<|unk|>, do you like <|unk|>? <|endoftext|> <|unk|> the <|unk|> <|unk|> of the <|unk|>.\n"
          ]
        }
      ]
    },
    {
      "cell_type": "markdown",
      "source": [
        "## Byte Pair Encoding"
      ],
      "metadata": {
        "id": "LjtTeNnf3rpG"
      }
    },
    {
      "cell_type": "code",
      "source": [
        "import tiktoken"
      ],
      "metadata": {
        "id": "VVaobNlD6CC-"
      },
      "execution_count": 28,
      "outputs": []
    },
    {
      "cell_type": "code",
      "source": [
        "tokenizer = tiktoken.get_encoding(\"gpt2\")"
      ],
      "metadata": {
        "id": "2uAXdIuZ4NGX"
      },
      "execution_count": 29,
      "outputs": []
    },
    {
      "cell_type": "code",
      "source": [
        "text = (\n",
        "            \"Hello, do you like tea? <|endoftext|> In the sunlit terraces\"\n",
        "             \"of someunknownPlace.\"\n",
        ")"
      ],
      "metadata": {
        "id": "uYfBAsMK4e8k"
      },
      "execution_count": 30,
      "outputs": []
    },
    {
      "cell_type": "code",
      "source": [
        "ids = tokenizer.encode(text, allowed_special={\"<|endoftext|>\"})\n",
        "print(ids)"
      ],
      "metadata": {
        "colab": {
          "base_uri": "https://localhost:8080/"
        },
        "id": "9j2TQjSS6Ksx",
        "outputId": "1292bb9c-9b64-4e43-c3c8-d908de3b8973"
      },
      "execution_count": 31,
      "outputs": [
        {
          "output_type": "stream",
          "name": "stdout",
          "text": [
            "[15496, 11, 466, 345, 588, 8887, 30, 220, 50256, 554, 262, 4252, 18250, 8812, 2114, 1659, 617, 34680, 27271, 13]\n"
          ]
        }
      ]
    },
    {
      "cell_type": "code",
      "source": [
        "tokens = tokenizer.decode(ids)\n",
        "print(tokens)"
      ],
      "metadata": {
        "colab": {
          "base_uri": "https://localhost:8080/"
        },
        "id": "pQANzpfA6aCe",
        "outputId": "61340cb7-1302-473e-97a5-10c680fc4cfc"
      },
      "execution_count": 32,
      "outputs": [
        {
          "output_type": "stream",
          "name": "stdout",
          "text": [
            "Hello, do you like tea? <|endoftext|> In the sunlit terracesof someunknownPlace.\n"
          ]
        }
      ]
    },
    {
      "cell_type": "code",
      "source": [
        "sample_text = \"Akwirw ier\"\n",
        "sample_ids = tokenizer.encode(sample_text)\n",
        "print(sample_ids)"
      ],
      "metadata": {
        "colab": {
          "base_uri": "https://localhost:8080/"
        },
        "id": "q74RbIAj6mDF",
        "outputId": "055b2de3-94e1-4406-b445-f346363e0eaf"
      },
      "execution_count": 33,
      "outputs": [
        {
          "output_type": "stream",
          "name": "stdout",
          "text": [
            "[33901, 86, 343, 86, 220, 959]\n"
          ]
        }
      ]
    },
    {
      "cell_type": "markdown",
      "source": [
        "## Data Sampling with Sliding Window"
      ],
      "metadata": {
        "id": "oraMGfql0qqC"
      }
    },
    {
      "cell_type": "code",
      "source": [
        "with open('/input/Leo.txt', 'r', encoding='utf-8') as file:\n",
        "  raw_text = file.read()"
      ],
      "metadata": {
        "id": "c72YDo7d7j11"
      },
      "execution_count": 34,
      "outputs": []
    },
    {
      "cell_type": "code",
      "source": [
        "raw_text"
      ],
      "metadata": {
        "colab": {
          "base_uri": "https://localhost:8080/",
          "height": 157
        },
        "id": "kbfiC-ZI1wxA",
        "outputId": "122575e2-8f82-41da-d6dd-7e8123f09b91"
      },
      "execution_count": 35,
      "outputs": [
        {
          "output_type": "execute_result",
          "data": {
            "text/plain": [
              "'IT was a sunny morning, and I was on my way to Torcello. Venice lay behind us a dazzling line, with towers of gold against the blue lagoon. All at once a breeze sprang up from the sea; the small, feathery islands seemed to shake and quiver, and, like leaves driven before a gale, those flocks of colored butterflies, the fishing-boats, ran in before the storm. Far away to our left stood the ancient tower of Altinum, with the island of Burano a bright pink beneath the towering clouds. To our right, and much nearer, was a small cypress-covered islet. One large umbrella-pine hung close to the sea, and behind it rose the tower of the convent church. The two gondoliers consulted together in hoarse cries and decided to make for it.\\n\\n\"It is San Francesco del Deserto,\" the elder explained to me. \"It belongs to the little brown brothers, who take no money and are very kind. One would hardly believe these ones had any religion, they are such a simple people, and they live on fish and the vegetables they grow in their garden.\"\\n\\nWe fought the crooked little waves in silence after that; only the high prow rebelled openly against its sudden twistings and turnings. The arrowy-shaped gondola is not a structure made for the rough jostling of waves, and the gondoliers put forth all their strength and skill to reach the tiny haven under the convent wall. As we did so, the black bars of cloud rushed down upon us in a perfect deluge of rain, and we ran speechless and half drowned across the tossed field of grass and forget-me-nots to the convent door. A shivering beggar sprang up from nowhere and insisted on ringing the bell for us.\\n\\nThe door opened, and I saw before me a young brown brother with the merriest eyes I have ever seen. They were unshadowed, like a child\\'s, dancing and eager, and yet there was a strange gentleness and patience about him, too, as if there was no hurry even about his eagerness.\\n\\nHe was very poorly dressed and looked thin. I think he was charmed to see us, though a little shy, like a hospitable country hostess anxious to give pleasure, but afraid that she has not much to offer citizens of a larger world.\\n\\n\"What a tempest!\" he exclaimed. \"You have come at a good hour. Enter, enter, Signore! And your men, will they not come in?\"\\n\\nWe found ourselves in a very small rose-red cloister; in the middle of it was an old well under the open sky, but above us was a sheltering roof spanned by slender arches. The young monk hesitated for a moment, smiling from me to the two gondoliers. I think it occurred to him that we should like different entertainment, for he said at last:\\n\\n\"You men would perhaps like to sit in the porter\\'s lodge for a while? Our Brother Lorenzo is there; he is our chief fisherman, with a great knowledge of the lagoons; and he could light a fire for you to dry yourselves by—Signori. And you, if I mistake not, are English, are you not, Signore? It is probable that you would like to see our chapel. It is not much. We are very proud of it, but that, you know, is because it was founded by our blessed father, Saint Francis. He believed in poverty, and we also believe in it, but it does not give much for people to see. That is a misfortune, to come all this way and to see nothing.\" Brother Leo looked at me a little wistfully. I think he feared that I should be disappointed. Then he passed before me with swift, eager feet toward the little chapel.\\n\\nIt was a very little chapel and quite bare; behind the altar some monks were chanting an office. It was clean, and there were no pictures or images, only, as I knelt there, I felt as if the little island in its desert of waters had indeed secreted some vast treasure, and as if the chapel, empty as it had seemed at first, was full of invisible possessions. As for Brother Leo, he had stood beside me nervously for a moment; but on seeing that I was prepared to kneel, he started, like a bird set free, toward the altar steps, where his lithe young impetuosity sank into sudden peace. He knelt there so still, so rapt, so incased in his listening silence, that he might have been part of the stone pavement. Yet his earthly senses were alive, for the moment I rose he was at my side again, as patient and courteous as ever, though I felt as if his inner ear were listening still to some unheard melody.\\n\\nWe stood again in the pink cloister. \"There is little to see,\" he repeated. \"We are poverelli; it has been like this for seven hundred years.\" He smiled as if that age-long, simple service of poverty were a light matter, an excuse, perhaps, in the eyes of the citizen of a larger world for their having nothing to show. Only the citizen, as he looked at Brother Leo, had a sudden doubt as to the size of the world outside. Was it as large, half as large, even, as the eager young heart beside him which had chosen poverty as a bride?\\n\\nThe rain fell monotonously against the stones of the tiny cloister.\\n\\n\"What a tempest!\" said Brother Leo, smiling contentedly at the sky. \"You must come in and see our father. I sent word by the porter of your arrival, and I am sure he will receive you; that will be a pleasure for him, for he is of the great world, too. A very learned man, our father; he knows the French and the English tongue. Once he went to Rome; also he has been several times to Venice. He has been a great traveler.\"\\n\\n\"And you,\" I asked—\"have you also traveled?\"\\n\\nBrother Leo shook his head.\\n\\n\"I have sometimes looked at Venice,\" he said, \"across the water, and once I went to Burano with the marketing brother; otherwise, no, I have not traveled. But being a guest-brother, you see, I meet often with those who have, like your Excellency, for instance, and that is a great education.\"\\n\\nWe reached the door of the monastery, and I felt sorry when another brother opened to us, and Brother Leo, with the most cordial of farewell smiles, turned back across the cloister to the chapel door. \"Even if he does not hurry, he will still find prayer there,\" said a quiet voice beside me.\\n\\nI turned to look at the speaker. He was a tall old man with white hair and eyes like small blue flowers, very bright and innocent, with the same look of almost superb contentment in them that I had seen in Brother Leo\\'s eyes.\\n\\n\"But what will you have?\" he added with a twinkle. \"The young are always afraid of losing time; it is, perhaps, because they have so much. But enter, Signore! If you will be so kind as to excuse the refectory, it will give me much pleasure to bring you a little refreshment. You will pardon that we have not much to offer?\"\\n\\nThe father—for I found out afterward that he was the superior himself—brought me bread and wine, made in the convent, and waited on me with his own hands. Then he sat down on a narrow bench opposite to watch me smoke. I offered him one of my cigarettes, but he shook his head, smiling.\\n\\n\"I used to smoke once,\" he said. \"I was very particular about my tobacco. I think it was similar to yours—at least the aroma, which I enjoy very much, reminds me of it. It is curious, is it not, the pleasure we derive from remembering what we once had? But perhaps it is not altogether a pleasure unless one is glad that one has not got it now. Here one is free from things. I sometimes fear one may be a little indulgent about one\\'s liberty. Space, solitude, and love—it is all very intoxicating.\"\\n\\nThere was nothing in the refectory except the two narrow benches on which we sat, and a long trestled board which formed the table; the walls were white-washed and bare, the floor was stone. I found out later that the brothers ate and drank nothing except bread and wine and their own vegetables in season, a little macaroni sometimes in winter, and in summer figs out of their own garden. They slept on bare boards, with one thin blanket winter and summer alike. The fish they caught they sold at Burano or gave to the poor. There was no doubt that they enjoyed very great freedom from \"things.\"\\n\\nIt was a strange experience to meet a man who never had heard of a flying-machine and who could not understand why it was important to save time by using the telephone or the wireless-telegraphy system; but despite the fact that the father seemed very little impressed by our modern urgencies, I never have met a more intelligent listener or one who seized more quickly on all that was essential in an explanation.\\n\\n\"You must not think we do nothing at all, we lazy ones who follow old paths,\" he said in answer to one of my questions. \"There are only eight of us brothers, and there is the garden, fishing, cleaning, and praying. We are sent for, too, from Burano to go and talk a little with the people there, or from some island on the lagoons which perhaps no priest can reach in the winter. It is easy for us, with our little boat and no cares.\"\\n\\n\"But Brother Leo told me he had been to Burano only once,\" I said. \"That seems strange when you are so near.\"\\n\\n\"Yes, he went only once,\" said the father, and for a moment or two he was silent, and I found his blue eyes on mine, as if he were weighing me.\\n\\n\"Brother Leo,\" said the superior at last, \"is our youngest. He is very young, younger perhaps than his years; but we have brought him up altogether, you see. His parents died of cholera within a few days of each other. As there were no relatives, we took him, and when he was seventeen he decided to join our order. He has always been happy with us, but one cannot say that he has seen much of the world.\" He paused again, and once more I felt his blue eyes searching mine. \"Who knows?\" he said finally. \"Perhaps you were sent here to help me. I have prayed for two years on the subject, and that seems very likely. The storm is increasing, and you will not be able to return until to-morrow. This evening, if you will allow me, we will speak more on this matter. Meanwhile I will show you our spare room. Brother Lorenzo will see that you are made as comfortable as we can manage. It is a great privilege for us to have this opportunity; believe me, we are not ungrateful.\"\\n\\nIt would have been of no use to try to explain to him that it was for us to feel gratitude. It was apparent that none of the brothers had ever learned that important lesson of the worldly respectable—that duty is what other people ought to do. They were so busy thinking of their own obligations as to overlook entirely the obligations of others. It was not that they did not think of others. I think they thought only of one another, but they thought without a shadow of judgment, with that bright, spontaneous love of little children, too interested to point a moral. Indeed, they seemed to me very like a family of happy children listening to a fairy-story and knowing that the tale is true.\\n\\nAfter supper the superior took me to his office. The rain had ceased, but the wind howled and shrieked across the lagoons, and I could hear the waves breaking heavily against the island. There was a candle on the desk, and the tiny, shadowy cell looked like a picture by Rembrandt.\\n\\n\"The rain has ceased now,\" the father said quietly, \"and to-morrow the waves will have gone down, and you, Signore, will have left us. It is in your power to do us all a great favor. I have thought much whether I shall ask it of you, and even now I hesitate; but Scripture nowhere tells us that the kingdom of heaven was taken by precaution, nor do I imagine that in this world things come oftenest to those who refrain from asking.\\n\\n\"All of us,\" he continued, \"have come here after seeing something of the outside world; some of us even had great possessions. Leo alone knows nothing of it, and has possessed nothing, nor did he ever wish to; he has been willing that nothing should be his own, not a flower in the garden, not anything but his prayers, and even these I think he has oftenest shared. But the visit to Burano put an idea in his head. It is, perhaps you know, a factory town where they make lace, and the people live there with good wages, many of them, but also much poverty. There is a poverty which is a grace, but there is also a poverty which is a great misery, and this Leo never had seen before. He did not know that poverty could be a pain. It filled him with a great horror, and in his heart there was a certain rebellion. It seemed to him that in a world with so much money no one should suffer for the lack of it.\\n\\n\"It was useless for me to point out to him that in a world where there is so much health God has permitted sickness; where there is so much beauty, ugliness; where there is so much holiness, sin. It is not that there is any lack in the gifts of God; all are there, and in abundance, but He has left their distribution to the soul of man. It is easy for me to believe this. I have known what money can buy and what it cannot buy; but Brother Leo, who never has owned a penny, how should he know anything of the ways of pennies?\\n\\n\"I saw that he could not be contented with my answer; and then this other idea came to him—the idea that is, I think, the blessed hope of youth that this thing being wrong, he, Leo, must protest against it, must resist it! Surely, if money can do wonders, we who set ourselves to work the will of God should have more control of this wonder-working power? He fretted against his rule. He did not permit himself to believe that our blessed father, Saint Francis, was wrong, but it was a hardship for him to refuse alms from our kindly visitors. He thought the beggars\\' rags would be made whole by gold; he wanted to give them more than bread, he wanted, poverino! to buy happiness for the whole world.\"\\n\\nThe father paused, and his dark, thought-lined face lighted up with a sudden, beautiful smile till every feature seemed as young as his eyes.\\n\\n\"I do not think the human being ever has lived who has not thought that he ought to have happiness,\" he said. \"We begin at once to get ready for heaven; but heaven is a long way off. We make haste slowly. It takes us all our lives, and perhaps purgatory, to get to the bottom of our own hearts. That is the last place in which we look for heaven, but I think it is the first in which we shall find it.\"\\n\\n\"But it seems to me extraordinary that, if Brother Leo has this thing so much on his mind, he should look so happy,\" I exclaimed. \"That is the first thing I noticed about him.\"\\n\\n\"Yes, it is not for himself that he is searching,\" said the superior. \"If it were, I should not wish him to go out into the world, because I should not expect him to find anything there. His heart is utterly at rest; but though he is personally happy, this thing troubles him. His prayers are eating into his soul like flame, and in time this fire of pity and sorrow will become a serious menace to his peace. Besides, I see in Leo a great power of sympathy and understanding. He has in him the gift of ruling other souls. He is very young to rule his own soul, and yet he rules it. When I die, it is probable that he will be called to take my place, and for that it is necessary he should have seen clearly that our rule is right. At present he accepts it in obedience, but he must have more than obedience in order to teach it to others; he must have a personal light.\\n\\n\"This, then, is the favor I have to ask of you, Signore. I should like to have you take Brother Leo to Venice to-morrow, and, if you have the time at your disposal, I should like you to show him the towers, the churches, the palaces, and the poor who are still so poor. I wish him to see how people spend money, both the good and the bad. I wish him to see the world. Perhaps then it will come to him as it came to me—that money is neither a curse nor a blessing in itself, but only one of God\\'s mysteries, like the dust in a sunbeam.\"\\n\\n\"I will take him very gladly; but will one day be enough?\" I answered.\\n\\nThe superior arose and smiled again.\\n\\n\"Ah, we slow worms of earth,\" he said, \"are quick about some things! You have learned to save time by flying-machines; we, too, have certain methods of flight. Brother Leo learns all his lessons that way. I hardly see him start before he arrives. You must not think I am so myself. No, no. I am an old man who has lived a long life learning nothing, but I have seen Leo grow like a flower in a tropic night. I thank you, my friend, for this great favor. I think God will reward you.\"\\n\\nBrother Lorenzo took me to my bedroom; he was a talkative old man, very anxious for my comfort. He told me that there was an office in the chapel at two o\\'clock, and one at five to begin the day, but he hoped that I should sleep through them.\\n\\n\"They are all very well for us,\" he explained, \"but for a stranger, what cold, what disturbance, and what a difficulty to arrange the right thoughts in the head during chapel! Even for me it is a great temptation. I find my mind running on coffee in the morning, a thing we have only on great feast-days. I may say that I have fought this thought for seven years, but though a small devil, perhaps, it is a very strong one. Now, if you should hear our bell in the night, as a favor pray that I may not think about coffee. Such an imperfection! I say to myself, the sin of Esau! But he, you know, had some excuse; he had been hunting. Now, I ask you—one has not much chance of that on this little island; one has only one\\'s sins to hunt, and, alas! they don\\'t run away as fast as one could wish! I am afraid they are tame, these ones. May your Excellency sleep like the blessed saints, only a trifle longer!\"\\n\\nI did sleep a trifle longer; indeed, I was quite unable to assist Brother Lorenzo to resist his coffee devil during chapel-time. I did not wake till my tiny cell was flooded with sunshine and full of the sound of St. Francis\\'s birds. Through my window I could see the fishing-boats pass by. First came one with a pair of lemon-yellow sails, like floating primroses; then a boat as scarlet as a dancing flame, and half a dozen others painted some with jokes and some with incidents in the lives of patron saints, all gliding out over the blue lagoon to meet the golden day.'"
            ],
            "application/vnd.google.colaboratory.intrinsic+json": {
              "type": "string"
            }
          },
          "metadata": {},
          "execution_count": 35
        }
      ]
    },
    {
      "cell_type": "code",
      "source": [
        "encoded_text = tokenizer.encode(raw_text)\n",
        "print(len(encoded_text))"
      ],
      "metadata": {
        "colab": {
          "base_uri": "https://localhost:8080/"
        },
        "id": "ursBYQQI1ygP",
        "outputId": "f9006d71-643b-4f59-c8a7-2499c71e7bec"
      },
      "execution_count": 36,
      "outputs": [
        {
          "output_type": "stream",
          "name": "stdout",
          "text": [
            "4279\n"
          ]
        }
      ]
    },
    {
      "cell_type": "markdown",
      "source": [
        "It has 4279 tokens in total in the training set. Now, we remove first 50 tokens from the dataset."
      ],
      "metadata": {
        "id": "zOhAs8y-2E6h"
      }
    },
    {
      "cell_type": "code",
      "source": [
        "encoded_sample = encoded_text[50:]"
      ],
      "metadata": {
        "id": "QEX71t6Y16oc"
      },
      "execution_count": 37,
      "outputs": []
    },
    {
      "cell_type": "markdown",
      "source": [
        "It's time to create the input-target pairs. Let's look into one example first,"
      ],
      "metadata": {
        "id": "IEb1-M7V2jt9"
      }
    },
    {
      "cell_type": "code",
      "source": [
        "context_window = 4\n",
        "x = encoded_sample[:context_window]\n",
        "y = encoded_sample[1:context_window+1]\n",
        "print(x)\n",
        "print(\"    \",y)"
      ],
      "metadata": {
        "colab": {
          "base_uri": "https://localhost:8080/"
        },
        "id": "n1sl-YUB2hHL",
        "outputId": "932066e2-0ce0-47d3-8263-a9f9ca23f8dc"
      },
      "execution_count": 38,
      "outputs": [
        {
          "output_type": "stream",
          "name": "stdout",
          "text": [
            "[88, 14807, 3947, 284]\n",
            "     [14807, 3947, 284, 13279]\n"
          ]
        }
      ]
    },
    {
      "cell_type": "code",
      "source": [
        "for i in range(1, context_window+1):\n",
        "  input = encoded_sample[:i]\n",
        "  target = encoded_sample[i]\n",
        "  print(input, \"-->\", target)"
      ],
      "metadata": {
        "colab": {
          "base_uri": "https://localhost:8080/"
        },
        "id": "Y1oR9s5S21qF",
        "outputId": "b020fc31-4838-42f9-aa7b-a7ea017b5fbb"
      },
      "execution_count": 39,
      "outputs": [
        {
          "output_type": "stream",
          "name": "stdout",
          "text": [
            "[88] --> 14807\n",
            "[88, 14807] --> 3947\n",
            "[88, 14807, 3947] --> 284\n",
            "[88, 14807, 3947, 284] --> 13279\n"
          ]
        }
      ]
    },
    {
      "cell_type": "markdown",
      "source": [
        "Let's repeat the above process for getting input-target pairs, but with the actual tokens in the text not the tokenIDs."
      ],
      "metadata": {
        "id": "BXGEgZ0i3lKB"
      }
    },
    {
      "cell_type": "code",
      "source": [
        "for i in range(1, context_window+1):\n",
        "  input = encoded_sample[:i]\n",
        "  target = encoded_sample[i]\n",
        "  print(tokenizer.decode(input), \"-->\", tokenizer.decode([target]))"
      ],
      "metadata": {
        "colab": {
          "base_uri": "https://localhost:8080/"
        },
        "id": "sjkNZvSi3Tn5",
        "outputId": "874bf237-3cd8-4e86-fcab-cdf8e7466d7a"
      },
      "execution_count": 40,
      "outputs": [
        {
          "output_type": "stream",
          "name": "stdout",
          "text": [
            "y -->  islands\n",
            "y islands -->  seemed\n",
            "y islands seemed -->  to\n",
            "y islands seemed to -->  shake\n"
          ]
        }
      ]
    },
    {
      "cell_type": "markdown",
      "source": [
        "we've now created input-target pairs."
      ],
      "metadata": {
        "id": "TmiL9QS-4WaP"
      }
    },
    {
      "cell_type": "markdown",
      "source": [
        "## Dataset for Batched Input and Targets"
      ],
      "metadata": {
        "id": "6x2k1BF-4334"
      }
    },
    {
      "cell_type": "code",
      "source": [
        "import torch\n",
        "from torch.utils.data import Dataset, DataLoader"
      ],
      "metadata": {
        "id": "TXCzHGwv33jQ"
      },
      "execution_count": 41,
      "outputs": []
    },
    {
      "cell_type": "code",
      "source": [
        "class GPTDatasetV1(Dataset):\n",
        "  def __init__(self, text, tokenizer, max_length, stride):\n",
        "    self.input_ids = list()\n",
        "    self.target_ids = list()\n",
        "\n",
        "    token_ids = tokenizer.encode(text)\n",
        "\n",
        "    for i in range(0, len(token_ids) - max_length, stride):\n",
        "      input = token_ids[i:i+max_length]\n",
        "      target = token_ids[i+1:i+max_length+1]\n",
        "      self.input_ids.append(torch.tensor(input))\n",
        "      self.target_ids.append(torch.tensor(target))\n",
        "\n",
        "  def __len__(self):\n",
        "    return len(self.input_ids)\n",
        "\n",
        "  def __getitem__(self, index):\n",
        "    return self.input_ids[index], self.target_ids[index]\n"
      ],
      "metadata": {
        "id": "wJTlCaSx5Fe2"
      },
      "execution_count": 42,
      "outputs": []
    },
    {
      "cell_type": "markdown",
      "source": [
        "## DataLoader to generate batches with input-target pairs"
      ],
      "metadata": {
        "id": "GVEUKmnw7LvL"
      }
    },
    {
      "cell_type": "code",
      "source": [
        "# define DataLoader object\n",
        "def create_dataloader_v1(\n",
        "                          text,\n",
        "                          batch_size=4,\n",
        "                          max_length=256,\n",
        "                          stride=128,\n",
        "                          shuffle=True,\n",
        "                          drop_last=True,\n",
        "                          num_workers=0\n",
        "                      ):\n",
        "\n",
        "  tokenizer = tiktoken.get_encoding('gpt2')\n",
        "  dataset = GPTDatasetV1(text, tokenizer, max_length, stride)\n",
        "  dataloader = DataLoader(\n",
        "                            dataset,\n",
        "                            batch_size=batch_size,\n",
        "                            shuffle=shuffle,\n",
        "                            drop_last=drop_last,\n",
        "                            num_workers=num_workers\n",
        "                        )\n",
        "\n",
        "  return dataloader"
      ],
      "metadata": {
        "id": "9XnNE9pU652O"
      },
      "execution_count": 43,
      "outputs": []
    },
    {
      "cell_type": "markdown",
      "source": [
        "Let's test the dataloader with batch size of 1 with context size 4."
      ],
      "metadata": {
        "id": "ppdZ2hOO9KC5"
      }
    },
    {
      "cell_type": "code",
      "source": [
        "with open('/input/Leo.txt', 'r', encoding='utf-8') as file:\n",
        "  raw_text = file.read()"
      ],
      "metadata": {
        "id": "JJ-ygMFx85WU"
      },
      "execution_count": 44,
      "outputs": []
    },
    {
      "cell_type": "markdown",
      "source": [
        "1st example"
      ],
      "metadata": {
        "id": "Sbjy_W-W-kuB"
      }
    },
    {
      "cell_type": "code",
      "source": [
        "dataloader = create_dataloader_v1(\n",
        "                          raw_text,\n",
        "                          batch_size=1,\n",
        "                          max_length=4,\n",
        "                          stride=1,\n",
        "                          shuffle=False)"
      ],
      "metadata": {
        "id": "f_xJ6Zsl9Uzm"
      },
      "execution_count": 45,
      "outputs": []
    },
    {
      "cell_type": "code",
      "source": [
        "data_iter = iter(dataloader)\n",
        "first_batch = next(data_iter)\n",
        "print(first_batch)"
      ],
      "metadata": {
        "colab": {
          "base_uri": "https://localhost:8080/"
        },
        "id": "BjK-naXl9ZBd",
        "outputId": "0e16ba72-cd19-4605-b2fc-17b405467f0c"
      },
      "execution_count": 46,
      "outputs": [
        {
          "output_type": "stream",
          "name": "stdout",
          "text": [
            "[tensor([[ 2043,   373,   257, 27737]]), tensor([[  373,   257, 27737,  3329]])]\n"
          ]
        }
      ]
    },
    {
      "cell_type": "code",
      "source": [
        "second_batch = next(data_iter)\n",
        "print(second_batch)"
      ],
      "metadata": {
        "colab": {
          "base_uri": "https://localhost:8080/"
        },
        "id": "15g-jcYV9w7j",
        "outputId": "3b16c4a7-25f9-4c26-d140-3cb9293c4187"
      },
      "execution_count": 47,
      "outputs": [
        {
          "output_type": "stream",
          "name": "stdout",
          "text": [
            "[tensor([[  373,   257, 27737,  3329]]), tensor([[  257, 27737,  3329,    11]])]\n"
          ]
        }
      ]
    },
    {
      "cell_type": "markdown",
      "source": [
        "2nd example"
      ],
      "metadata": {
        "id": "YAPlWkan-mT9"
      }
    },
    {
      "cell_type": "code",
      "source": [
        "dataloader = create_dataloader_v1(\n",
        "                          raw_text,\n",
        "                          batch_size=8,\n",
        "                          max_length=4,\n",
        "                          stride=4,\n",
        "                          shuffle=False)"
      ],
      "metadata": {
        "id": "YsrOslLf-FhX"
      },
      "execution_count": 48,
      "outputs": []
    },
    {
      "cell_type": "code",
      "source": [
        "data_iter = iter(dataloader)\n",
        "input, target = next(data_iter)"
      ],
      "metadata": {
        "id": "QwOuvJj6-vit"
      },
      "execution_count": 49,
      "outputs": []
    },
    {
      "cell_type": "code",
      "source": [
        "print(input)\n",
        "print(target)"
      ],
      "metadata": {
        "colab": {
          "base_uri": "https://localhost:8080/"
        },
        "id": "F8P0KdcC-zh2",
        "outputId": "0c460d6e-3c1e-46aa-a14d-acf71598eefe"
      },
      "execution_count": 50,
      "outputs": [
        {
          "output_type": "stream",
          "name": "stdout",
          "text": [
            "tensor([[ 2043,   373,   257, 27737],\n",
            "        [ 3329,    11,   290,   314],\n",
            "        [  373,   319,   616,   835],\n",
            "        [  284,  4022,  3846,    78],\n",
            "        [   13, 29702,  3830,  2157],\n",
            "        [  514,   257, 41535,  1627],\n",
            "        [   11,   351, 18028,   286],\n",
            "        [ 3869,  1028,   262,  4171]])\n",
            "tensor([[  373,   257, 27737,  3329],\n",
            "        [   11,   290,   314,   373],\n",
            "        [  319,   616,   835,   284],\n",
            "        [ 4022,  3846,    78,    13],\n",
            "        [29702,  3830,  2157,   514],\n",
            "        [  257, 41535,  1627,    11],\n",
            "        [  351, 18028,   286,  3869],\n",
            "        [ 1028,   262,  4171, 19470]])\n"
          ]
        }
      ]
    },
    {
      "cell_type": "markdown",
      "source": [
        "## Create Token Embeddings"
      ],
      "metadata": {
        "id": "BTcpw1zRBtk0"
      }
    },
    {
      "cell_type": "markdown",
      "source": [
        "Let'e see how we can convert token IDs to embeddings through an example:"
      ],
      "metadata": {
        "id": "AJeykg3_CNQu"
      }
    },
    {
      "cell_type": "code",
      "source": [
        "input_ids = torch.tensor([2, 4, 1, 5])"
      ],
      "metadata": {
        "id": "AArHOvU7-2wW"
      },
      "execution_count": 51,
      "outputs": []
    },
    {
      "cell_type": "markdown",
      "source": [
        "Also, let's suppose that we have vocabulary of size 6 and we want to create embeddings of size 3."
      ],
      "metadata": {
        "id": "Rp7IPXajCcY0"
      }
    },
    {
      "cell_type": "code",
      "source": [
        "vocab_size = 6\n",
        "output_dim = 3"
      ],
      "metadata": {
        "id": "-vAg1VgQCXiM"
      },
      "execution_count": 52,
      "outputs": []
    },
    {
      "cell_type": "code",
      "source": [
        "torch.manual_seed(144)\n",
        "embedding_layer = torch.nn.Embedding(vocab_size, output_dim)"
      ],
      "metadata": {
        "id": "3XtAYRQWCt94"
      },
      "execution_count": 53,
      "outputs": []
    },
    {
      "cell_type": "code",
      "source": [
        "print(embedding_layer.weight)"
      ],
      "metadata": {
        "colab": {
          "base_uri": "https://localhost:8080/"
        },
        "id": "nJRb5p0gDOUH",
        "outputId": "9b078b56-3f78-4a1f-b287-15e089512c0f"
      },
      "execution_count": 54,
      "outputs": [
        {
          "output_type": "stream",
          "name": "stdout",
          "text": [
            "Parameter containing:\n",
            "tensor([[ 2.0498, -0.5850,  0.0478],\n",
            "        [ 0.9948,  0.8840,  0.0773],\n",
            "        [ 3.2101, -1.1649, -0.5699],\n",
            "        [ 1.3446,  1.2875,  0.9301],\n",
            "        [ 0.5089,  0.4857, -0.9258],\n",
            "        [ 1.8692,  0.9056,  0.5658]], requires_grad=True)\n"
          ]
        }
      ]
    },
    {
      "cell_type": "markdown",
      "source": [
        "The weight matrix of embedding layer contains small random values. And these values will be initialized during LLM training as part of the LLM optimization."
      ],
      "metadata": {
        "id": "Sycu3INaDUYE"
      }
    },
    {
      "cell_type": "code",
      "source": [
        "print(embedding_layer(input_ids))"
      ],
      "metadata": {
        "colab": {
          "base_uri": "https://localhost:8080/"
        },
        "id": "0BPXlX2-DQoB",
        "outputId": "e9502ef8-239c-43fe-aaa6-a0ba4631ddd4"
      },
      "execution_count": 55,
      "outputs": [
        {
          "output_type": "stream",
          "name": "stdout",
          "text": [
            "tensor([[ 3.2101, -1.1649, -0.5699],\n",
            "        [ 0.5089,  0.4857, -0.9258],\n",
            "        [ 0.9948,  0.8840,  0.0773],\n",
            "        [ 1.8692,  0.9056,  0.5658]], grad_fn=<EmbeddingBackward0>)\n"
          ]
        }
      ]
    },
    {
      "cell_type": "markdown",
      "source": [
        "Now, we have successfully created mbedding vectors from token IDs. Next, we will add samll modification to this embeddings for encoding positional information within text."
      ],
      "metadata": {
        "id": "H1t6U3BIEslM"
      }
    },
    {
      "cell_type": "markdown",
      "source": [
        "## Encoding Word Positions"
      ],
      "metadata": {
        "id": "n_2rld3HE_4H"
      }
    },
    {
      "cell_type": "markdown",
      "source": [
        "Now, let's create embeddings with vocab size 50,257 and output embedding dimesions is 256."
      ],
      "metadata": {
        "id": "hTLASDDeGhhu"
      }
    },
    {
      "cell_type": "code",
      "source": [
        "vocab_size = 50257\n",
        "output_dim = 256"
      ],
      "metadata": {
        "id": "2OCre2-2D3Du"
      },
      "execution_count": 56,
      "outputs": []
    },
    {
      "cell_type": "code",
      "source": [
        "embedding_layer = torch.nn.Embedding(vocab_size, output_dim)"
      ],
      "metadata": {
        "id": "tGNaYwhQGzcm"
      },
      "execution_count": 57,
      "outputs": []
    },
    {
      "cell_type": "markdown",
      "source": [
        "Let's initiate dataloader first,"
      ],
      "metadata": {
        "id": "LkcNdJZ4HEib"
      }
    },
    {
      "cell_type": "code",
      "source": [
        "dataloader = create_dataloader_v1(\n",
        "                          raw_text,\n",
        "                          batch_size=8,\n",
        "                          max_length=4,\n",
        "                          stride=4,\n",
        "                          shuffle=False)"
      ],
      "metadata": {
        "id": "B7rZFaYiG4UW"
      },
      "execution_count": 58,
      "outputs": []
    },
    {
      "cell_type": "code",
      "source": [
        "data_iter = iter(dataloader)\n",
        "input, target = next(data_iter)"
      ],
      "metadata": {
        "id": "QB3jkoqpHO4a"
      },
      "execution_count": 59,
      "outputs": []
    },
    {
      "cell_type": "code",
      "source": [
        "print(input)\n",
        "print(input.shape)"
      ],
      "metadata": {
        "colab": {
          "base_uri": "https://localhost:8080/"
        },
        "id": "mU4V4vChHUby",
        "outputId": "81e6938c-e27f-40b9-a159-dff672c58ba9"
      },
      "execution_count": 60,
      "outputs": [
        {
          "output_type": "stream",
          "name": "stdout",
          "text": [
            "tensor([[ 2043,   373,   257, 27737],\n",
            "        [ 3329,    11,   290,   314],\n",
            "        [  373,   319,   616,   835],\n",
            "        [  284,  4022,  3846,    78],\n",
            "        [   13, 29702,  3830,  2157],\n",
            "        [  514,   257, 41535,  1627],\n",
            "        [   11,   351, 18028,   286],\n",
            "        [ 3869,  1028,   262,  4171]])\n",
            "torch.Size([8, 4])\n"
          ]
        }
      ]
    },
    {
      "cell_type": "markdown",
      "source": [
        "Now, we will create embeddings"
      ],
      "metadata": {
        "id": "u-yPaaTmHgMS"
      }
    },
    {
      "cell_type": "code",
      "source": [
        "token_embeddings = embedding_layer(input)"
      ],
      "metadata": {
        "id": "4wtCBVkYHXKS"
      },
      "execution_count": 61,
      "outputs": []
    },
    {
      "cell_type": "code",
      "source": [
        "print(token_embeddings.shape)"
      ],
      "metadata": {
        "colab": {
          "base_uri": "https://localhost:8080/"
        },
        "id": "54J6Dx-uHrbv",
        "outputId": "c718f903-8a12-4398-af5d-26d859da09d0"
      },
      "execution_count": 62,
      "outputs": [
        {
          "output_type": "stream",
          "name": "stdout",
          "text": [
            "torch.Size([8, 4, 256])\n"
          ]
        }
      ]
    },
    {
      "cell_type": "markdown",
      "source": [
        "This 8 x 4 x 256 dimensional tensor shows that each token ID is embedded as 256-dimensional vector."
      ],
      "metadata": {
        "id": "rv8tpG04H3P-"
      }
    },
    {
      "cell_type": "code",
      "source": [
        "context_length = 4\n",
        "pos_embedding_layer = torch.nn.Embedding(context_length, output_dim)\n",
        "pos_embeddings = pos_embedding_layer(torch.arange(context_length))\n",
        "print(pos_embeddings.shape)"
      ],
      "metadata": {
        "colab": {
          "base_uri": "https://localhost:8080/"
        },
        "id": "4eylsdKcHxTw",
        "outputId": "4e49566a-7a4a-449d-85d9-7cf07bdb00f6"
      },
      "execution_count": 63,
      "outputs": [
        {
          "output_type": "stream",
          "name": "stdout",
          "text": [
            "torch.Size([4, 256])\n"
          ]
        }
      ]
    },
    {
      "cell_type": "code",
      "source": [
        "pos_embeddings[1]"
      ],
      "metadata": {
        "colab": {
          "base_uri": "https://localhost:8080/"
        },
        "id": "YOXCv9H6I-py",
        "outputId": "17e3c65c-6b7d-4ce5-b526-37dc4433c0f2"
      },
      "execution_count": 64,
      "outputs": [
        {
          "output_type": "execute_result",
          "data": {
            "text/plain": [
              "tensor([-1.0864e+00, -6.2188e-02, -1.0294e+00, -2.2932e-01, -6.0874e-01,\n",
              "         5.3524e-01,  1.3238e+00,  2.3330e+00, -9.9768e-02, -4.7199e-01,\n",
              "        -5.3248e-01,  1.8350e+00,  2.8382e-01,  1.0543e+00, -1.7998e+00,\n",
              "         1.4655e+00, -1.9528e+00,  2.1799e-01,  1.3202e+00, -4.7460e-01,\n",
              "         3.8520e-01, -8.1749e-02,  5.1069e-01,  1.0609e+00,  2.9112e-02,\n",
              "        -4.0899e-02, -5.1593e-01,  2.6452e-01, -9.2384e-01, -1.0146e+00,\n",
              "        -5.9922e-01,  2.3189e-01,  5.8988e-01,  1.5490e-01,  1.1972e+00,\n",
              "         3.7747e-01, -1.1821e+00,  1.5121e+00, -2.6745e-01,  7.3872e-01,\n",
              "        -5.1275e-01, -3.7004e-01,  5.3351e-01,  7.8175e-01,  1.2124e+00,\n",
              "        -2.5448e+00,  9.7309e-01,  5.9424e-01, -1.5780e-01,  6.6926e-01,\n",
              "         1.8240e+00, -1.5038e+00,  9.2822e-01,  1.1650e+00,  1.4926e+00,\n",
              "         1.3172e-01,  1.1997e+00, -4.4992e-01,  6.4799e-01, -1.0770e+00,\n",
              "        -1.9323e+00, -4.1374e-01, -5.7242e-01,  3.8571e-03,  5.9323e-01,\n",
              "         1.3487e+00,  9.8320e-01,  2.1459e+00,  1.0223e+00, -2.6239e-01,\n",
              "        -9.0979e-01, -6.6782e-01, -1.5164e+00,  2.2336e+00, -6.0366e-02,\n",
              "        -2.5484e+00, -9.8538e-01,  9.0997e-01,  1.8729e+00,  1.5174e+00,\n",
              "        -5.3172e-01,  2.0688e-01, -1.3384e+00,  3.3057e-01,  1.1832e+00,\n",
              "        -1.3464e+00,  4.3966e-03,  3.0783e-01, -1.3532e+00, -1.2229e+00,\n",
              "        -1.5297e+00, -9.4590e-01, -1.8807e+00,  2.6920e-01,  8.4349e-01,\n",
              "        -1.6708e+00, -1.3432e-01,  1.2948e+00,  5.2372e-01,  4.3310e-01,\n",
              "         1.4048e+00,  3.5675e-01, -1.4196e+00, -1.4237e-01,  4.4419e-01,\n",
              "        -1.5778e+00,  7.4118e-01, -7.4923e-01, -1.4543e-02,  1.0029e+00,\n",
              "        -5.4395e-01,  1.8963e-01,  4.4493e-01, -1.9422e+00,  4.7572e-01,\n",
              "        -5.5757e-01,  4.2290e-01, -1.3519e+00,  7.2638e-01, -1.2369e+00,\n",
              "         7.3580e-02,  6.1420e-01,  1.0867e+00,  1.2623e+00,  1.7236e-01,\n",
              "        -1.3619e+00,  4.1051e-01, -9.4217e-01,  3.9643e-01, -1.2299e+00,\n",
              "         8.3577e-01, -1.0962e+00,  1.9803e+00, -1.0517e+00, -1.6224e+00,\n",
              "         4.7761e-01, -2.1575e-01, -2.8793e-01,  1.2426e+00,  4.1573e-01,\n",
              "         2.9522e-01,  8.2924e-01,  7.2013e-01, -3.7844e-01, -6.7713e-01,\n",
              "        -1.3009e-01,  1.3781e+00,  1.2638e+00,  1.0405e+00, -6.9116e-01,\n",
              "        -1.1137e+00, -1.6517e-01, -1.5704e+00,  4.8140e-01, -7.0258e-01,\n",
              "         4.8240e-01, -8.6068e-02, -1.0679e-01, -1.3662e+00,  5.6207e-01,\n",
              "        -6.2838e-01, -2.7161e+00, -6.8913e-01, -1.2084e+00,  1.4747e+00,\n",
              "        -6.4045e-01,  6.2532e-02,  1.3075e+00, -1.1566e+00,  1.2228e+00,\n",
              "         3.0038e-01,  8.4032e-01,  1.3070e+00, -1.7483e-01,  1.9360e-02,\n",
              "        -1.0322e+00,  6.9732e-01, -9.1352e-01,  2.4516e-03, -4.3687e-01,\n",
              "        -9.5746e-01,  4.7267e-01,  1.2204e-01, -1.7901e-01, -6.9567e-01,\n",
              "         7.3348e-01, -5.2585e-01,  4.5684e-01,  1.7876e-01, -1.9677e-01,\n",
              "        -7.0036e-01, -8.2225e-01,  4.8610e-01,  2.9099e-01, -6.6831e-01,\n",
              "         7.8089e-01,  5.8560e-01,  3.8179e-02, -5.7200e-01,  2.3666e-01,\n",
              "         2.0995e-01,  1.5591e-01,  1.2787e+00, -8.4235e-02,  7.4501e-01,\n",
              "        -9.0400e-01,  2.2010e+00, -1.2678e-01, -1.2541e+00,  2.1067e+00,\n",
              "        -9.2460e-01, -1.9878e+00,  4.4463e-01,  7.7941e-01, -1.1651e-01,\n",
              "        -2.3809e-02,  5.8151e-01, -1.3654e+00,  9.5289e-01,  1.3414e-01,\n",
              "        -1.4263e+00, -7.7353e-01,  2.1153e-01,  1.0364e+00,  2.3102e-01,\n",
              "        -1.0749e+00, -1.5740e+00,  7.7539e-02, -1.1177e+00, -5.8328e-01,\n",
              "         1.1142e+00, -2.1941e-01, -1.4421e+00,  1.7749e+00,  5.0158e-01,\n",
              "        -1.7264e+00, -1.5059e+00, -1.2828e+00, -4.6148e-01, -6.4830e-01,\n",
              "        -9.4239e-01,  1.1113e-01, -1.3676e+00, -1.2901e+00, -6.3204e-01,\n",
              "         7.6443e-01,  1.7050e+00, -8.1775e-01, -1.3036e-01, -6.3764e-01,\n",
              "        -2.8533e-02,  8.7735e-01,  6.4208e-01, -1.7845e+00, -5.4175e-01,\n",
              "        -1.3801e+00], grad_fn=<SelectBackward0>)"
            ]
          },
          "metadata": {},
          "execution_count": 64
        }
      ]
    },
    {
      "cell_type": "code",
      "source": [
        "input_embeddings = token_embeddings + pos_embeddings"
      ],
      "metadata": {
        "id": "KZBYVj_BIVuT"
      },
      "execution_count": 65,
      "outputs": []
    },
    {
      "cell_type": "code",
      "source": [
        "print(input_embeddings.shape)"
      ],
      "metadata": {
        "colab": {
          "base_uri": "https://localhost:8080/"
        },
        "id": "yvpv-W3sInnl",
        "outputId": "3fc8dc3d-41ae-43c1-cd75-77863587c264"
      },
      "execution_count": 66,
      "outputs": [
        {
          "output_type": "stream",
          "name": "stdout",
          "text": [
            "torch.Size([8, 4, 256])\n"
          ]
        }
      ]
    }
  ]
}
